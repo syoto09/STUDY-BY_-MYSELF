{
 "cells": [
  {
   "cell_type": "markdown",
   "metadata": {},
   "source": [
    "# Simulation 2"
   ]
  },
  {
   "cell_type": "code",
   "execution_count": 6,
   "metadata": {},
   "outputs": [],
   "source": [
    "import math\n",
    "import scipy.stats"
   ]
  },
  {
   "cell_type": "code",
   "execution_count": 2,
   "metadata": {},
   "outputs": [
    {
     "data": {
      "text/plain": [
       "6.454972243680366"
      ]
     },
     "execution_count": 2,
     "metadata": {},
     "output_type": "execute_result"
    }
   ],
   "source": [
    "# T test \n",
    "x_bar = 8.2535\n",
    "s = 0.0021\n",
    "n = 15\n",
    "mu = 8.25\n",
    "t = (x_bar - mu) / (s/ math.sqrt(n))\n",
    "t"
   ]
  },
  {
   "cell_type": "markdown",
   "metadata": {},
   "source": [
    "$\n",
    "t = \\frac{\\bar{x} - \\mu_0}{s  /  \\sqrt(n)}\n",
    "$\n"
   ]
  },
  {
   "cell_type": "markdown",
   "metadata": {},
   "source": [
    "$$\n",
    "    \\mu_0 = 8.5\n",
    "$$\n",
    "$$\n",
    "    \\mu_0 \\neq 8.5\n",
    "$$"
   ]
  },
  {
   "cell_type": "code",
   "execution_count": 8,
   "metadata": {},
   "outputs": [
    {
     "data": {
      "text/plain": [
       "1.5101662480108631e-05"
      ]
     },
     "execution_count": 8,
     "metadata": {},
     "output_type": "execute_result"
    }
   ],
   "source": [
    "# Find the Pvalue from \n",
    "p_value_t = 2 * scipy.stats.t.sf(t, df = n -1)\n",
    "p_value_t"
   ]
  },
  {
   "cell_type": "markdown",
   "metadata": {},
   "source": [
    "$$\n",
    "   H_0: \\sigma = 0.003\n",
    "$$\n",
    "$$\n",
    "   H_1: \\sigma \\neq 0.003\n",
    "$$\n",
    "$$\n",
    "   \\chi^2 = \\frac{(n-1)S^2}{\\sigma_0 ^2}\n",
    "$$"
   ]
  },
  {
   "cell_type": "code",
   "execution_count": 12,
   "metadata": {},
   "outputs": [
    {
     "data": {
      "text/plain": [
       "0.06002601340697433"
      ]
     },
     "execution_count": 12,
     "metadata": {},
     "output_type": "execute_result"
    }
   ],
   "source": [
    "# chi- Test\n",
    "sigma = 0.003\n",
    "chi = ((n-1) * (s ** 2)) / sigma ** 2\n",
    "p_value_chi = scipy.stats.chi2.cdf(chi, df = n -1)\n",
    "p_value_chi"
   ]
  }
 ],
 "metadata": {
  "interpreter": {
   "hash": "feeb65082d26a4b474c925096ab8b2c359a0a6137d61d963b24f22db0d4ba25b"
  },
  "kernelspec": {
   "display_name": "Python 3.9.7 ('base')",
   "language": "python",
   "name": "python3"
  },
  "language_info": {
   "codemirror_mode": {
    "name": "ipython",
    "version": 3
   },
   "file_extension": ".py",
   "mimetype": "text/x-python",
   "name": "python",
   "nbconvert_exporter": "python",
   "pygments_lexer": "ipython3",
   "version": "3.9.7"
  },
  "orig_nbformat": 4
 },
 "nbformat": 4,
 "nbformat_minor": 2
}

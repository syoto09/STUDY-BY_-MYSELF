{
 "cells": [
  {
   "cell_type": "markdown",
   "metadata": {},
   "source": [
    "# Simulation 2"
   ]
  },
  {
   "cell_type": "code",
   "execution_count": 6,
   "metadata": {},
   "outputs": [],
   "source": [
    "import math\n",
    "import scipy.stats"
   ]
  },
  {
   "cell_type": "code",
   "execution_count": 2,
   "metadata": {},
   "outputs": [
    {
     "data": {
      "text/plain": [
       "6.454972243680366"
      ]
     },
     "execution_count": 2,
     "metadata": {},
     "output_type": "execute_result"
    }
   ],
   "source": [
    "# T test \n",
    "x_bar = 8.2535\n",
    "s = 0.0021\n",
    "n = 15\n",
    "mu = 8.25\n",
    "t = (x_bar - mu) / (s/ math.sqrt(n))\n",
    "t"
   ]
  },
  {
   "cell_type": "markdown",
   "metadata": {},
   "source": [
    "$\n",
    "t = \\frac{\\bar{x} - \\mu_0}{s  /  \\sqrt(n)}\n",
    "$\n"
   ]
  },
  {
   "cell_type": "markdown",
   "metadata": {},
   "source": [
    "$$\n",
    "    \\mu_0 = 8.5\n",
    "$$\n",
    "$$\n",
    "    \\mu_0 \\neq 8.5\n",
    "$$"
   ]
  },
  {
   "cell_type": "code",
   "execution_count": 8,
   "metadata": {},
   "outputs": [
    {
     "data": {
      "text/plain": [
       "1.5101662480108631e-05"
      ]
     },
     "execution_count": 8,
     "metadata": {},
     "output_type": "execute_result"
    }
   ],
   "source": [
    "# Find the Pvalue from \n",
    "p_value_t = 2 * scipy.stats.t.sf(t, df = n -1)\n",
    "p_value_t"
   ]
  },
  {
   "cell_type": "markdown",
   "metadata": {},
   "source": [
    "$$\n",
    "   H_0: \\sigma = 0.003\n",
    "$$\n",
    "$$\n",
    "   H_1: \\sigma \\neq 0.003\n",
    "$$\n",
    "$$\n",
    "   \\chi^2 = \\frac{(n-1)S^2}{\\sigma_0 ^2}\n",
    "$$"
   ]
  },
  {
   "cell_type": "code",
   "execution_count": 12,
   "metadata": {},
   "outputs": [
    {
     "data": {
      "text/plain": [
       "0.06002601340697433"
      ]
     },
     "execution_count": 12,
     "metadata": {},
     "output_type": "execute_result"
    }
   ],
   "source": [
    "# chi- Test\n",
    "sigma = 0.003\n",
    "chi = ((n-1) * (s ** 2)) / sigma ** 2\n",
    "p_value_chi = scipy.stats.chi2.cdf(chi, df = n -1)\n",
    "p_value_chi"
   ]
  },
  {
   "cell_type": "code",
   "execution_count": 13,
   "metadata": {},
   "outputs": [],
   "source": [
    "import pandas as pd"
   ]
  },
  {
   "cell_type": "code",
   "execution_count": 15,
   "metadata": {},
   "outputs": [],
   "source": [
    "df = pd.read_csv('windshield.csv')"
   ]
  },
  {
   "cell_type": "code",
   "execution_count": 16,
   "metadata": {},
   "outputs": [
    {
     "data": {
      "text/html": [
       "<div>\n",
       "<style scoped>\n",
       "    .dataframe tbody tr th:only-of-type {\n",
       "        vertical-align: middle;\n",
       "    }\n",
       "\n",
       "    .dataframe tbody tr th {\n",
       "        vertical-align: top;\n",
       "    }\n",
       "\n",
       "    .dataframe thead th {\n",
       "        text-align: right;\n",
       "    }\n",
       "</style>\n",
       "<table border=\"1\" class=\"dataframe\">\n",
       "  <thead>\n",
       "    <tr style=\"text-align: right;\">\n",
       "      <th></th>\n",
       "      <th>m</th>\n",
       "      <th>n</th>\n",
       "      <th>width</th>\n",
       "      <th>operator</th>\n",
       "      <th>furnace</th>\n",
       "      <th>shift</th>\n",
       "      <th>timestamp</th>\n",
       "    </tr>\n",
       "  </thead>\n",
       "  <tbody>\n",
       "    <tr>\n",
       "      <th>0</th>\n",
       "      <td>1</td>\n",
       "      <td>1</td>\n",
       "      <td>57.81</td>\n",
       "      <td>Sean</td>\n",
       "      <td>1</td>\n",
       "      <td>day</td>\n",
       "      <td>2021-09-01 10:00:24</td>\n",
       "    </tr>\n",
       "    <tr>\n",
       "      <th>1</th>\n",
       "      <td>1</td>\n",
       "      <td>2</td>\n",
       "      <td>57.98</td>\n",
       "      <td>Sean</td>\n",
       "      <td>1</td>\n",
       "      <td>day</td>\n",
       "      <td>2021-09-01 10:03:45</td>\n",
       "    </tr>\n",
       "    <tr>\n",
       "      <th>2</th>\n",
       "      <td>1</td>\n",
       "      <td>3</td>\n",
       "      <td>57.84</td>\n",
       "      <td>Sean</td>\n",
       "      <td>1</td>\n",
       "      <td>day</td>\n",
       "      <td>2021-09-01 10:08:00</td>\n",
       "    </tr>\n",
       "    <tr>\n",
       "      <th>3</th>\n",
       "      <td>1</td>\n",
       "      <td>4</td>\n",
       "      <td>58.05</td>\n",
       "      <td>Sean</td>\n",
       "      <td>1</td>\n",
       "      <td>day</td>\n",
       "      <td>2021-09-01 10:11:28</td>\n",
       "    </tr>\n",
       "    <tr>\n",
       "      <th>4</th>\n",
       "      <td>1</td>\n",
       "      <td>5</td>\n",
       "      <td>57.71</td>\n",
       "      <td>Sean</td>\n",
       "      <td>1</td>\n",
       "      <td>day</td>\n",
       "      <td>2021-09-01 10:11:35</td>\n",
       "    </tr>\n",
       "    <tr>\n",
       "      <th>...</th>\n",
       "      <td>...</td>\n",
       "      <td>...</td>\n",
       "      <td>...</td>\n",
       "      <td>...</td>\n",
       "      <td>...</td>\n",
       "      <td>...</td>\n",
       "      <td>...</td>\n",
       "    </tr>\n",
       "    <tr>\n",
       "      <th>95</th>\n",
       "      <td>20</td>\n",
       "      <td>1</td>\n",
       "      <td>58.12</td>\n",
       "      <td>Genesis</td>\n",
       "      <td>1</td>\n",
       "      <td>night</td>\n",
       "      <td>2021-09-10 21:13:23</td>\n",
       "    </tr>\n",
       "    <tr>\n",
       "      <th>96</th>\n",
       "      <td>20</td>\n",
       "      <td>2</td>\n",
       "      <td>58.00</td>\n",
       "      <td>Genesis</td>\n",
       "      <td>1</td>\n",
       "      <td>night</td>\n",
       "      <td>2021-09-10 21:14:31</td>\n",
       "    </tr>\n",
       "    <tr>\n",
       "      <th>97</th>\n",
       "      <td>20</td>\n",
       "      <td>3</td>\n",
       "      <td>57.93</td>\n",
       "      <td>Genesis</td>\n",
       "      <td>1</td>\n",
       "      <td>night</td>\n",
       "      <td>2021-09-10 21:14:52</td>\n",
       "    </tr>\n",
       "    <tr>\n",
       "      <th>98</th>\n",
       "      <td>20</td>\n",
       "      <td>4</td>\n",
       "      <td>58.06</td>\n",
       "      <td>Genesis</td>\n",
       "      <td>1</td>\n",
       "      <td>night</td>\n",
       "      <td>2021-09-10 21:19:12</td>\n",
       "    </tr>\n",
       "    <tr>\n",
       "      <th>99</th>\n",
       "      <td>20</td>\n",
       "      <td>5</td>\n",
       "      <td>57.90</td>\n",
       "      <td>Genesis</td>\n",
       "      <td>1</td>\n",
       "      <td>night</td>\n",
       "      <td>2021-09-10 21:29:45</td>\n",
       "    </tr>\n",
       "  </tbody>\n",
       "</table>\n",
       "<p>100 rows × 7 columns</p>\n",
       "</div>"
      ],
      "text/plain": [
       "     m  n  width operator  furnace  shift            timestamp\n",
       "0    1  1  57.81     Sean        1    day  2021-09-01 10:00:24\n",
       "1    1  2  57.98     Sean        1    day  2021-09-01 10:03:45\n",
       "2    1  3  57.84     Sean        1    day  2021-09-01 10:08:00\n",
       "3    1  4  58.05     Sean        1    day  2021-09-01 10:11:28\n",
       "4    1  5  57.71     Sean        1    day  2021-09-01 10:11:35\n",
       "..  .. ..    ...      ...      ...    ...                  ...\n",
       "95  20  1  58.12  Genesis        1  night  2021-09-10 21:13:23\n",
       "96  20  2  58.00  Genesis        1  night  2021-09-10 21:14:31\n",
       "97  20  3  57.93  Genesis        1  night  2021-09-10 21:14:52\n",
       "98  20  4  58.06  Genesis        1  night  2021-09-10 21:19:12\n",
       "99  20  5  57.90  Genesis        1  night  2021-09-10 21:29:45\n",
       "\n",
       "[100 rows x 7 columns]"
      ]
     },
     "execution_count": 16,
     "metadata": {},
     "output_type": "execute_result"
    }
   ],
   "source": [
    "df"
   ]
  },
  {
   "cell_type": "code",
   "execution_count": 18,
   "metadata": {},
   "outputs": [
    {
     "data": {
      "text/plain": [
       "<AxesSubplot:ylabel='Frequency'>"
      ]
     },
     "execution_count": 18,
     "metadata": {},
     "output_type": "execute_result"
    },
    {
     "data": {
      "image/png": "[encoded data removed]",
      "text/plain": [
       "<Figure size 432x288 with 1 Axes>"
      ]
     },
     "metadata": {
      "needs_background": "light"
     },
     "output_type": "display_data"
    }
   ],
   "source": [
    "df['width'].plot.hist(bins = 5)\n",
    "df['width'].plot.hist(bins = 20)\n",
    "df['width'].plot.hist(bins = 100)"
   ]
  },
  {
   "cell_type": "code",
   "execution_count": 23,
   "metadata": {},
   "outputs": [
    {
     "data": {
      "text/html": [
       "<div>\n",
       "<style scoped>\n",
       "    .dataframe tbody tr th:only-of-type {\n",
       "        vertical-align: middle;\n",
       "    }\n",
       "\n",
       "    .dataframe tbody tr th {\n",
       "        vertical-align: top;\n",
       "    }\n",
       "\n",
       "    .dataframe thead th {\n",
       "        text-align: right;\n",
       "    }\n",
       "</style>\n",
       "<table border=\"1\" class=\"dataframe\">\n",
       "  <thead>\n",
       "    <tr style=\"text-align: right;\">\n",
       "      <th></th>\n",
       "      <th>m</th>\n",
       "      <th>n</th>\n",
       "      <th>width</th>\n",
       "      <th>furnace</th>\n",
       "      <th>shift</th>\n",
       "      <th>timestamp</th>\n",
       "    </tr>\n",
       "    <tr>\n",
       "      <th>operator</th>\n",
       "      <th></th>\n",
       "      <th></th>\n",
       "      <th></th>\n",
       "      <th></th>\n",
       "      <th></th>\n",
       "      <th></th>\n",
       "    </tr>\n",
       "  </thead>\n",
       "  <tbody>\n",
       "    <tr>\n",
       "      <th>Craig</th>\n",
       "      <td>5</td>\n",
       "      <td>5</td>\n",
       "      <td>5</td>\n",
       "      <td>5</td>\n",
       "      <td>5</td>\n",
       "      <td>5</td>\n",
       "    </tr>\n",
       "    <tr>\n",
       "      <th>Genesis</th>\n",
       "      <td>20</td>\n",
       "      <td>20</td>\n",
       "      <td>20</td>\n",
       "      <td>20</td>\n",
       "      <td>20</td>\n",
       "      <td>20</td>\n",
       "    </tr>\n",
       "    <tr>\n",
       "      <th>Leo</th>\n",
       "      <td>20</td>\n",
       "      <td>20</td>\n",
       "      <td>20</td>\n",
       "      <td>20</td>\n",
       "      <td>20</td>\n",
       "      <td>20</td>\n",
       "    </tr>\n",
       "    <tr>\n",
       "      <th>Maria</th>\n",
       "      <td>20</td>\n",
       "      <td>20</td>\n",
       "      <td>20</td>\n",
       "      <td>20</td>\n",
       "      <td>20</td>\n",
       "      <td>20</td>\n",
       "    </tr>\n",
       "    <tr>\n",
       "      <th>Sean</th>\n",
       "      <td>20</td>\n",
       "      <td>20</td>\n",
       "      <td>20</td>\n",
       "      <td>20</td>\n",
       "      <td>20</td>\n",
       "      <td>20</td>\n",
       "    </tr>\n",
       "    <tr>\n",
       "      <th>Simon</th>\n",
       "      <td>15</td>\n",
       "      <td>15</td>\n",
       "      <td>15</td>\n",
       "      <td>15</td>\n",
       "      <td>15</td>\n",
       "      <td>15</td>\n",
       "    </tr>\n",
       "  </tbody>\n",
       "</table>\n",
       "</div>"
      ],
      "text/plain": [
       "           m   n  width  furnace  shift  timestamp\n",
       "operator                                          \n",
       "Craig      5   5      5        5      5          5\n",
       "Genesis   20  20     20       20     20         20\n",
       "Leo       20  20     20       20     20         20\n",
       "Maria     20  20     20       20     20         20\n",
       "Sean      20  20     20       20     20         20\n",
       "Simon     15  15     15       15     15         15"
      ]
     },
     "execution_count": 23,
     "metadata": {},
     "output_type": "execute_result"
    }
   ],
   "source": [
    "df.groupby(['operator']).count()"
   ]
  }
 ],
 "metadata": {
  "interpreter": {
   "hash": "feeb65082d26a4b474c925096ab8b2c359a0a6137d61d963b24f22db0d4ba25b"
  },
  "kernelspec": {
   "display_name": "Python 3.9.7 ('base')",
   "language": "python",
   "name": "python3"
  },
  "language_info": {
   "codemirror_mode": {
    "name": "ipython",
    "version": 3
   },
   "file_extension": ".py",
   "mimetype": "text/x-python",
   "name": "python",
   "nbconvert_exporter": "python",
   "pygments_lexer": "ipython3",
   "version": "3.9.7"
  },
  "orig_nbformat": 4
 },
 "nbformat": 4,
 "nbformat_minor": 2
}

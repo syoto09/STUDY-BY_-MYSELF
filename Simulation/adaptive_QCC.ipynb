{
 "cells": [
  {
   "cell_type": "markdown",
   "metadata": {},
   "source": [
    "# Simulated adaptive quality control chart"
   ]
  },
  {
   "cell_type": "code",
   "execution_count": 2,
   "metadata": {},
   "outputs": [],
   "source": [
    "import random\n",
    "import numpy as np\n",
    "import pandas as pd\n",
    "import matplotlib.pyplot as plt\n",
    "import statistics\n",
    "import math"
   ]
  },
  {
   "cell_type": "code",
   "execution_count": 4,
   "metadata": {},
   "outputs": [],
   "source": [
    "i = 1\n",
    "n =  5\n",
    "seed_count = 1\n",
    "pw = 0.84 # warning limit\n",
    "nw = -0.84 # waring limit\n",
    "# Empty list\n",
    "time_sum = list()\n",
    "x_bar_summary = list()\n",
    "z = list()\n",
    "sample_num = list()\n",
    "\n",
    "while i <= 24: #time is from 0 hour to 24 hour\n",
    "    np.random.seed(seed_count)\n",
    "    sandwich = pd.Series(np.random.normal(loc = 10 + (i/11), scale = 2, size = 1000)) # mean shift\n",
    "    sample_sandwich = random.choices(sandwich, k = n)\n",
    "\n",
    "    x_bar = sum(sample_sandwich) / len(sample_sandwich)  # mean of n subway bread\n",
    "    std = statistics.pstdev(sample_sandwich)   # standard deviation of n subway bread\n",
    "    z_value = (x_bar - 10) / (std / math.sqrt(n))\n",
    "    \n",
    "    time_sum.append(i)\n",
    "    x_bar_summary.append(x_bar)\n",
    "    z.append(z_value)\n",
    "    sample_num.append(n)\n",
    "\n",
    "    if z_value < pw and z_value > nw:\n",
    "        i = i + 1.75\n",
    "        n = 3\n",
    "        seed_count = seed_count + 1\n",
    "    else:\n",
    "        i = i + 0.25\n",
    "        n = 8\n",
    "        seed_count = seed_count + 1"
   ]
  },
  {
   "cell_type": "code",
   "execution_count": 6,
   "metadata": {},
   "outputs": [
    {
     "data": {
      "text/html": [
       "<div>\n",
       "<style scoped>\n",
       "    .dataframe tbody tr th:only-of-type {\n",
       "        vertical-align: middle;\n",
       "    }\n",
       "\n",
       "    .dataframe tbody tr th {\n",
       "        vertical-align: top;\n",
       "    }\n",
       "\n",
       "    .dataframe thead th {\n",
       "        text-align: right;\n",
       "    }\n",
       "</style>\n",
       "<table border=\"1\" class=\"dataframe\">\n",
       "  <thead>\n",
       "    <tr style=\"text-align: right;\">\n",
       "      <th></th>\n",
       "      <th>time</th>\n",
       "      <th>sample size</th>\n",
       "      <th>x_bar</th>\n",
       "      <th>z</th>\n",
       "    </tr>\n",
       "  </thead>\n",
       "  <tbody>\n",
       "    <tr>\n",
       "      <th>0</th>\n",
       "      <td>1.00</td>\n",
       "      <td>5</td>\n",
       "      <td>10.286297</td>\n",
       "      <td>0.289214</td>\n",
       "    </tr>\n",
       "    <tr>\n",
       "      <th>1</th>\n",
       "      <td>2.75</td>\n",
       "      <td>3</td>\n",
       "      <td>11.418166</td>\n",
       "      <td>2.245720</td>\n",
       "    </tr>\n",
       "    <tr>\n",
       "      <th>2</th>\n",
       "      <td>3.00</td>\n",
       "      <td>8</td>\n",
       "      <td>10.530075</td>\n",
       "      <td>0.576494</td>\n",
       "    </tr>\n",
       "    <tr>\n",
       "      <th>3</th>\n",
       "      <td>4.75</td>\n",
       "      <td>3</td>\n",
       "      <td>10.026881</td>\n",
       "      <td>0.039610</td>\n",
       "    </tr>\n",
       "    <tr>\n",
       "      <th>4</th>\n",
       "      <td>6.50</td>\n",
       "      <td>3</td>\n",
       "      <td>12.194380</td>\n",
       "      <td>2.542161</td>\n",
       "    </tr>\n",
       "    <tr>\n",
       "      <th>5</th>\n",
       "      <td>6.75</td>\n",
       "      <td>8</td>\n",
       "      <td>10.117336</td>\n",
       "      <td>0.236874</td>\n",
       "    </tr>\n",
       "    <tr>\n",
       "      <th>6</th>\n",
       "      <td>8.50</td>\n",
       "      <td>3</td>\n",
       "      <td>11.248952</td>\n",
       "      <td>1.635963</td>\n",
       "    </tr>\n",
       "    <tr>\n",
       "      <th>7</th>\n",
       "      <td>8.75</td>\n",
       "      <td>8</td>\n",
       "      <td>11.063225</td>\n",
       "      <td>2.025661</td>\n",
       "    </tr>\n",
       "    <tr>\n",
       "      <th>8</th>\n",
       "      <td>9.00</td>\n",
       "      <td>8</td>\n",
       "      <td>10.389347</td>\n",
       "      <td>0.465658</td>\n",
       "    </tr>\n",
       "    <tr>\n",
       "      <th>9</th>\n",
       "      <td>10.75</td>\n",
       "      <td>3</td>\n",
       "      <td>11.109592</td>\n",
       "      <td>3.748893</td>\n",
       "    </tr>\n",
       "  </tbody>\n",
       "</table>\n",
       "</div>"
      ],
      "text/plain": [
       "    time  sample size      x_bar         z\n",
       "0   1.00            5  10.286297  0.289214\n",
       "1   2.75            3  11.418166  2.245720\n",
       "2   3.00            8  10.530075  0.576494\n",
       "3   4.75            3  10.026881  0.039610\n",
       "4   6.50            3  12.194380  2.542161\n",
       "5   6.75            8  10.117336  0.236874\n",
       "6   8.50            3  11.248952  1.635963\n",
       "7   8.75            8  11.063225  2.025661\n",
       "8   9.00            8  10.389347  0.465658\n",
       "9  10.75            3  11.109592  3.748893"
      ]
     },
     "execution_count": 6,
     "metadata": {},
     "output_type": "execute_result"
    }
   ],
   "source": [
    "# Create the empty data frame\n",
    "df = pd.DataFrame()\n",
    "df['time'] = time_sum\n",
    "df['sample size'] = sample_num\n",
    "df['x_bar'] = x_bar_summary\n",
    "df['z'] = z\n",
    "\n",
    "df.head(10)"
   ]
  },
  {
   "cell_type": "code",
   "execution_count": 7,
   "metadata": {},
   "outputs": [
    {
     "data": {
      "text/plain": [
       "<matplotlib.lines.Line2D at 0x1fba9ac46d0>"
      ]
     },
     "execution_count": 7,
     "metadata": {},
     "output_type": "execute_result"
    },
    {
     "data": {
      "image/png": "[encoded data removed]",
      "text/plain": [
       "<Figure size 432x288 with 1 Axes>"
      ]
     },
     "metadata": {
      "needs_background": "light"
     },
     "output_type": "display_data"
    }
   ],
   "source": [
    "#plot the time and z on the chart\n",
    "result = df.plot(x = \"time\", y = \"z\", kind = \"line\")\n",
    "result.set_ylim([-3.5, 3.5])\n",
    "result.axhline(y = 0, color = 'red', linestyle = '-')\n",
    "result.axhline(y = -3, color = 'red', linestyle = '-')\n",
    "result.axhline(y = 3, color = 'red', linestyle = '-')"
   ]
  }
 ],
 "metadata": {
  "interpreter": {
   "hash": "feeb65082d26a4b474c925096ab8b2c359a0a6137d61d963b24f22db0d4ba25b"
  },
  "kernelspec": {
   "display_name": "Python 3.9.7 ('base')",
   "language": "python",
   "name": "python3"
  },
  "language_info": {
   "codemirror_mode": {
    "name": "ipython",
    "version": 3
   },
   "file_extension": ".py",
   "mimetype": "text/x-python",
   "name": "python",
   "nbconvert_exporter": "python",
   "pygments_lexer": "ipython3",
   "version": "3.9.7"
  },
  "orig_nbformat": 4
 },
 "nbformat": 4,
 "nbformat_minor": 2
}
